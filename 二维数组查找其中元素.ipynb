{
 "cells": [
  {
   "cell_type": "markdown",
   "metadata": {},
   "source": [
    "### 题目描述\n",
    "#### 在一个二维数组中（每个一维数组的长度相同），每一行都按照从左到右递增的顺序排序，每一列都按照从上到下递增的顺序排序。请完成一个函数，输入这样的一个二维数组和一个整数，判断数组中是否含有该整数。"
   ]
  },
  {
   "cell_type": "code",
   "execution_count": 1,
   "metadata": {},
   "outputs": [],
   "source": [
    "# -*- coding:utf-8 -*-\n",
    "class Solution:\n",
    "    # array 二维列表\n",
    "    # 从右上角开始搜索\n",
    "    def Find(self, target, array):\n",
    "        row = 0\n",
    "        col = len(array[0])-1\n",
    "        while row<len(array) and col >=0:\n",
    "            if array[row][col] > target:\n",
    "                col -=1\n",
    "            elif array[row][col] < target:\n",
    "                row +=1\n",
    "            else:\n",
    "                return 'true'\n",
    "        return 'false'\n",
    "     \n",
    "\n",
    "#这里后面是牛客网的输入\n",
    "while True:\n",
    "    try:\n",
    "        S = Solution()\n",
    "        L = list(eval(raw_input()))\n",
    "        array = L[1]\n",
    "        target = L[0]\n",
    "        print(S.Find(target,array))\n",
    "    except:\n",
    "        break"
   ]
  },
  {
   "cell_type": "code",
   "execution_count": null,
   "metadata": {},
   "outputs": [],
   "source": []
  }
 ],
 "metadata": {
  "kernelspec": {
   "display_name": "Python 3",
   "language": "python",
   "name": "python3"
  },
  "language_info": {
   "codemirror_mode": {
    "name": "ipython",
    "version": 3
   },
   "file_extension": ".py",
   "mimetype": "text/x-python",
   "name": "python",
   "nbconvert_exporter": "python",
   "pygments_lexer": "ipython3",
   "version": "3.6.8"
  }
 },
 "nbformat": 4,
 "nbformat_minor": 2
}
