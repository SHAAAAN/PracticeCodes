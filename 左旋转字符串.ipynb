{
 "cells": [
  {
   "cell_type": "markdown",
   "metadata": {},
   "source": [
    "### 题目描述\n",
    "#### 字符串的左旋转操作是把字符串前面的若干个字符转移到字符串的尾部。请定义一个函数实现字符串左旋转操作的功能。比如，输入字符串\"abcdefg\"和数字2，该函数将返回左旋转两位得到的结果\"cdefgab\"。\n",
    "#### 示例：输入: s = \"abcdefg\", k = 2；输出: \"cdefgab\""
   ]
  },
  {
   "cell_type": "code",
   "execution_count": null,
   "metadata": {},
   "outputs": [],
   "source": [
    "class Solution:\n",
    "    def reverseLeftWords(self, s: str, n: int) -> str:\n",
    "        if n ==0 :\n",
    "            return s\n",
    "        elif n>len(s) or n<0:\n",
    "            return False\n",
    "        else:\n",
    "            result = []\n",
    "            for i in range(n,len(s)):\n",
    "                result.append(s[i])\n",
    "            for i in range(0,n):\n",
    "                result.append(s[i])\n",
    "            \n",
    "            results = \"\".join(result)\n",
    "            return results"
   ]
  },
  {
   "cell_type": "markdown",
   "metadata": {},
   "source": [
    "### python/Java技巧：切片"
   ]
  },
  {
   "cell_type": "code",
   "execution_count": null,
   "metadata": {},
   "outputs": [],
   "source": [
    "#python\n",
    "class Solution:\n",
    "    def reverseLeftWords(self, s: str, n: int) -> str:\n",
    "        if n ==0 :\n",
    "            return s\n",
    "        elif n>len(s) or n<0:\n",
    "            return False\n",
    "        else:\n",
    "            return s[:n]+s[n:]"
   ]
  },
  {
   "cell_type": "code",
   "execution_count": null,
   "metadata": {},
   "outputs": [],
   "source": [
    "#java\n",
    "class Solution {\n",
    "    public String reverseLeftWords(String s, int n) {\n",
    "        return s.substring(n)+s.substring(0,n);\n",
    "    }\n",
    "}"
   ]
  }
 ],
 "metadata": {
  "kernelspec": {
   "display_name": "Python 3",
   "language": "python",
   "name": "python3"
  },
  "language_info": {
   "codemirror_mode": {
    "name": "ipython",
    "version": 3
   },
   "file_extension": ".py",
   "mimetype": "text/x-python",
   "name": "python",
   "nbconvert_exporter": "python",
   "pygments_lexer": "ipython3",
   "version": "3.6.8"
  }
 },
 "nbformat": 4,
 "nbformat_minor": 2
}
